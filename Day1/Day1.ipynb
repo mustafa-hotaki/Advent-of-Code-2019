{
  "nbformat": 4,
  "nbformat_minor": 0,
  "metadata": {
    "colab": {
      "name": "Day1.ipynb",
      "provenance": [],
      "collapsed_sections": []
    },
    "kernelspec": {
      "name": "python3",
      "display_name": "Python 3"
    }
  },
  "cells": [
    {
      "cell_type": "markdown",
      "metadata": {
        "id": "IomXOXt6W2Q2"
      },
      "source": [
        "# Advent of Code - 2020 - Day 16\r\n"
      ]
    },
    {
      "cell_type": "code",
      "metadata": {
        "colab": {
          "base_uri": "https://localhost:8080/"
        },
        "id": "myOUGwAXW_uv",
        "outputId": "9dea77b7-8ecf-4f97-f6fc-628573d5a70e"
      },
      "source": [
        "data = []\r\n",
        "with open(\"inputs_day_1.txt\", \"r\") as f:\r\n",
        "  for line in f:\r\n",
        "    line_formatted = int(line.strip())\r\n",
        "    #print(laine_formatted)\r\n",
        "    data.append(line_formatted)\r\n",
        "\r\n",
        "print(data[:2])\r\n",
        "print(len(data))"
      ],
      "execution_count": 8,
      "outputs": [
        {
          "output_type": "stream",
          "text": [
            "[104451, 112406]\n",
            "100\n"
          ],
          "name": "stdout"
        }
      ]
    },
    {
      "cell_type": "markdown",
      "metadata": {
        "id": "052RFR9PXWKU"
      },
      "source": [
        "## Part 1"
      ]
    },
    {
      "cell_type": "code",
      "metadata": {
        "colab": {
          "base_uri": "https://localhost:8080/"
        },
        "id": "FecTMHKHXDoK",
        "outputId": "7127847e-1a70-4efc-917a-c58a8b6b77c1"
      },
      "source": [
        "# Part 1\r\n",
        "module_masses = data\r\n",
        "requirements = [int(x / 3) - 2 for x in module_masses]\r\n",
        "total = sum(requirements)\r\n",
        "print(total)"
      ],
      "execution_count": 6,
      "outputs": [
        {
          "output_type": "stream",
          "text": [
            "3538016\n"
          ],
          "name": "stdout"
        }
      ]
    },
    {
      "cell_type": "markdown",
      "metadata": {
        "id": "RJP_3IbuXX6G"
      },
      "source": [
        "## Part 2"
      ]
    },
    {
      "cell_type": "code",
      "metadata": {
        "colab": {
          "base_uri": "https://localhost:8080/"
        },
        "id": "RnhR27-QXKUn",
        "outputId": "7885226d-77ee-4e46-ae02-c5623f9e894b"
      },
      "source": [
        "# Part 2\r\n",
        "def findFuelRequirements(fuel):\r\n",
        "  requirement = int(fuel / 3) - 2\r\n",
        "  if(requirement <= 0):\r\n",
        "    return 0\r\n",
        "  else:\r\n",
        "    return requirement + findFuelRequirements(requirement)\r\n",
        "\r\n",
        "requirements = [findFuelRequirements(x) for x in module_masses]\r\n",
        "total = sum(requirements)\r\n",
        "print(total)"
      ],
      "execution_count": 7,
      "outputs": [
        {
          "output_type": "stream",
          "text": [
            "5304147\n"
          ],
          "name": "stdout"
        }
      ]
    },
    {
      "cell_type": "code",
      "metadata": {
        "id": "4YDac5P8XQbi"
      },
      "source": [
        ""
      ],
      "execution_count": null,
      "outputs": []
    }
  ]
}