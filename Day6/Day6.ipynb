{
  "nbformat": 4,
  "nbformat_minor": 0,
  "metadata": {
    "colab": {
      "name": "Day6.ipynb",
      "provenance": [],
      "collapsed_sections": []
    },
    "kernelspec": {
      "name": "python3",
      "display_name": "Python 3"
    }
  },
  "cells": [
    {
      "cell_type": "markdown",
      "metadata": {
        "id": "J7n29EThJGKo"
      },
      "source": [
        "# Advent of Code 2019 - Day 6"
      ]
    },
    {
      "cell_type": "code",
      "metadata": {
        "id": "yEHmaqAzJGSV"
      },
      "source": [
        "data = []\r\n",
        "with open('inputs_day_6.txt', 'r') as f:\r\n",
        "  for line in f:\r\n",
        "    data.append(line.strip())\r\n",
        "    \r\n",
        "data[:5]"
      ],
      "execution_count": null,
      "outputs": []
    },
    {
      "cell_type": "code",
      "metadata": {
        "id": "uiVJkN8V2dWC"
      },
      "source": [
        "orbit_map = {}\r\n",
        "all_masses = set()\r\n",
        "for x in data:\r\n",
        "  key, value = x.split(')')\r\n",
        "  all_masses.add(key)\r\n",
        "  all_masses.add(value)\r\n",
        "  if key in orbit_map:\r\n",
        "    orbit_map[key] += [value]\r\n",
        "  else:\r\n",
        "    orbit_map[key] = [value]"
      ],
      "execution_count": null,
      "outputs": []
    },
    {
      "cell_type": "code",
      "metadata": {
        "id": "e6Pe_01w6x1y"
      },
      "source": [
        "def reverse_lookup(dic, value):\r\n",
        "  for key in dic:\r\n",
        "    if value in dic[key]:\r\n",
        "      return key"
      ],
      "execution_count": null,
      "outputs": []
    },
    {
      "cell_type": "code",
      "metadata": {
        "id": "Sr5ujDJw9JW4"
      },
      "source": [
        "def count_orbits(orbit_map, mass):\r\n",
        "  # Reverse lookup mass in orbit map i.e., find the mass it orbits\r\n",
        "  parent = reverse_lookup(orbit_map, mass)\r\n",
        "  if parent:\r\n",
        "    return 1 + count_orbits(orbit_map, parent)\r\n",
        "  else:\r\n",
        "    return 0"
      ],
      "execution_count": null,
      "outputs": []
    },
    {
      "cell_type": "code",
      "metadata": {
        "colab": {
          "base_uri": "https://localhost:8080/"
        },
        "id": "FyEgXj1s9wLy",
        "outputId": "a84fcc31-6bf8-4f4f-b52d-5f03ab67d8f1"
      },
      "source": [
        "count = 0\r\n",
        "for mass in all_masses:\r\n",
        "  count += count_orbits(orbit_map, mass)\r\n",
        "count"
      ],
      "execution_count": null,
      "outputs": [
        {
          "output_type": "execute_result",
          "data": {
            "text/plain": [
              "162439"
            ]
          },
          "metadata": {
            "tags": []
          },
          "execution_count": 5
        }
      ]
    },
    {
      "cell_type": "markdown",
      "metadata": {
        "id": "1u8EmppI_a6t"
      },
      "source": [
        "## Part 2"
      ]
    },
    {
      "cell_type": "code",
      "metadata": {
        "colab": {
          "base_uri": "https://localhost:8080/"
        },
        "id": "Lu22gSG0DUKR",
        "outputId": "78653fb3-edac-4716-c126-ff1cf0749049"
      },
      "source": [
        "# Given a current mass and a (possible) containing mass\r\n",
        "# Return the number of transfers needed to get there\r\n",
        "# -1 indicates the possible containing mass is not contained\r\n",
        "# 0 means the current mass is the containing mass\r\n",
        "# A positive integer indictaes number of transfers needed to get there\r\n",
        "\r\n",
        "def num_transfers_to_containing(orbit_map, current, containing, depth = 0):\r\n",
        "  if current in orbit_map:\r\n",
        "    results = 0\r\n",
        "    for child in orbit_map[current]:\r\n",
        "      #print('Recurring on', child, containing)\r\n",
        "      res = num_transfers_to_containing(orbit_map, child, containing, depth + 1)\r\n",
        "      if(res != -1):\r\n",
        "        return res\r\n",
        "    return -1\r\n",
        "  else: # Does not contain children\r\n",
        "    if current == containing:\r\n",
        "      return depth\r\n",
        "    else:\r\n",
        "      return -1\r\n",
        "\r\n",
        "num_transfers_to_containing(orbit_map, 'H', 'SAN', 0)"
      ],
      "execution_count": null,
      "outputs": [
        {
          "output_type": "execute_result",
          "data": {
            "text/plain": [
              "-1"
            ]
          },
          "metadata": {
            "tags": []
          },
          "execution_count": 13
        }
      ]
    },
    {
      "cell_type": "code",
      "metadata": {
        "colab": {
          "base_uri": "https://localhost:8080/"
        },
        "id": "aVM8wRt6Annt",
        "outputId": "63da1247-72c5-4738-d249-ce710d660779"
      },
      "source": [
        "# Start with YOU and keep going up the tree until we reach a \r\n",
        "# Node that is either SAN or contains SAN down the line\r\n",
        "\r\n",
        "previous = 'YOU'\r\n",
        "counter = 0\r\n",
        "while(True):\r\n",
        "  parent = reverse_lookup(orbit_map, previous)\r\n",
        "  counter += 1\r\n",
        "  num_transfers = num_transfers_to_containing(orbit_map, parent, 'SAN')\r\n",
        "  if(num_transfers != -1): # Found node that contains SAN\r\n",
        "    print(counter + num_transfers - 2)\r\n",
        "    break\r\n",
        "  \r\n",
        "  previous = parent\r\n"
      ],
      "execution_count": null,
      "outputs": [
        {
          "output_type": "stream",
          "text": [
            "367\n"
          ],
          "name": "stdout"
        }
      ]
    },
    {
      "cell_type": "code",
      "metadata": {
        "id": "kEek0HpTHVA5"
      },
      "source": [
        ""
      ],
      "execution_count": null,
      "outputs": []
    }
  ]
}