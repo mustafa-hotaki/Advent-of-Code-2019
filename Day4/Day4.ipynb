{
  "nbformat": 4,
  "nbformat_minor": 0,
  "metadata": {
    "colab": {
      "name": "Day4.ipynb",
      "provenance": []
    },
    "kernelspec": {
      "name": "python3",
      "display_name": "Python 3"
    }
  },
  "cells": [
    {
      "cell_type": "markdown",
      "metadata": {
        "id": "x5dY5f81w0I9"
      },
      "source": [
        "# Advent of Code 2019 - Day 4"
      ]
    },
    {
      "cell_type": "code",
      "metadata": {
        "id": "vrXZEsBRw0P6"
      },
      "source": [
        "a = 273025\r\n",
        "b = 767253"
      ],
      "execution_count": null,
      "outputs": []
    },
    {
      "cell_type": "markdown",
      "metadata": {
        "id": "IlHTaCDewW66"
      },
      "source": [
        "## Part 1"
      ]
    },
    {
      "cell_type": "code",
      "metadata": {
        "id": "CUoZ8ReKpYPg"
      },
      "source": [
        "def two_adjacent_digits_are_same(num):\r\n",
        "  num_str = str(num)\r\n",
        "  for a, b in zip(num_str[:-1], num_str[1:]): # Loop over (a1, a2), (a2, a3), (a3, a4)...\r\n",
        "    if a == b:\r\n",
        "      return True\r\n",
        "  return False"
      ],
      "execution_count": null,
      "outputs": []
    },
    {
      "cell_type": "code",
      "metadata": {
        "colab": {
          "base_uri": "https://localhost:8080/"
        },
        "id": "HdrcVYy6pqRd",
        "outputId": "19a30cb2-c913-4c39-d9bf-5e1c4d1c95a3"
      },
      "source": [
        "def digits_are_monotonically_increasing(num):\r\n",
        "  num_str = str(num)\r\n",
        "  previous = num_str[0]\r\n",
        "  for digit in num_str[1:]:\r\n",
        "    if previous > digit:\r\n",
        "      return False\r\n",
        "    previous = digit\r\n",
        "  return True"
      ],
      "execution_count": null,
      "outputs": [
        {
          "output_type": "execute_result",
          "data": {
            "text/plain": [
              "False"
            ]
          },
          "metadata": {
            "tags": []
          },
          "execution_count": 14
        }
      ]
    },
    {
      "cell_type": "code",
      "metadata": {
        "colab": {
          "base_uri": "https://localhost:8080/"
        },
        "id": "80vAVw11q4gN",
        "outputId": "1fbe3c7c-2ebe-47d2-aee4-ecfc8f8abdbb"
      },
      "source": [
        "valid_counter = 0\r\n",
        "for i in range(a, b + 1):\r\n",
        "  if two_adjacent_are_same(i) and digits_are_monotonically_increasing(i):\r\n",
        "    valid_counter += 1\r\n",
        "\r\n",
        "valid_counter"
      ],
      "execution_count": null,
      "outputs": [
        {
          "output_type": "execute_result",
          "data": {
            "text/plain": [
              "910"
            ]
          },
          "metadata": {
            "tags": []
          },
          "execution_count": 15
        }
      ]
    },
    {
      "cell_type": "markdown",
      "metadata": {
        "id": "DJD45zDKsP2o"
      },
      "source": [
        "## Part 2"
      ]
    },
    {
      "cell_type": "code",
      "metadata": {
        "id": "QGJ0vKeAsQuP"
      },
      "source": [
        "import re\r\n",
        "def two_adjacent_digits_are_same_strict(num):\r\n",
        "  num_str = str(num)\r\n",
        "  for digit in set(num_str):\r\n",
        "    if re.search(digit + '{2}', num_str):\r\n",
        "      if not re.search(digit + '{3}', num_str):\r\n",
        "        return True\r\n",
        "  return False"
      ],
      "execution_count": null,
      "outputs": []
    },
    {
      "cell_type": "code",
      "metadata": {
        "colab": {
          "base_uri": "https://localhost:8080/"
        },
        "id": "f0RBIimssP-6",
        "outputId": "dd1dde68-2501-4348-ac62-b86df2d6045e"
      },
      "source": [
        "valid_counter = 0\r\n",
        "for i in range(a, b + 1):\r\n",
        "  if two_adjacent_digits_are_same_strict(i) and digits_are_monotonically_increasing(i):\r\n",
        "    valid_counter += 1\r\n",
        "\r\n",
        "valid_counter"
      ],
      "execution_count": null,
      "outputs": [
        {
          "output_type": "execute_result",
          "data": {
            "text/plain": [
              "598"
            ]
          },
          "metadata": {
            "tags": []
          },
          "execution_count": 45
        }
      ]
    },
    {
      "cell_type": "code",
      "metadata": {
        "id": "oQwzvYLEwcZi"
      },
      "source": [
        ""
      ],
      "execution_count": null,
      "outputs": []
    }
  ]
}