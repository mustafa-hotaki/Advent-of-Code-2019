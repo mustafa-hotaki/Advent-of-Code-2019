{
  "nbformat": 4,
  "nbformat_minor": 0,
  "metadata": {
    "colab": {
      "name": "Day7.ipynb",
      "provenance": [],
      "collapsed_sections": [],
      "toc_visible": true
    },
    "kernelspec": {
      "name": "python3",
      "display_name": "Python 3"
    }
  },
  "cells": [
    {
      "cell_type": "markdown",
      "metadata": {
        "id": "J7n29EThJGKo"
      },
      "source": [
        "# Advent of Code 2019 - Day 7"
      ]
    },
    {
      "cell_type": "code",
      "metadata": {
        "id": "yEHmaqAzJGSV"
      },
      "source": [
        "data = []\r\n",
        "with open('inputs_day_7.txt', 'r') as f:\r\n",
        "  for line in f:\r\n",
        "    data.append(line.strip())"
      ],
      "execution_count": 1,
      "outputs": []
    },
    {
      "cell_type": "code",
      "metadata": {
        "colab": {
          "base_uri": "https://localhost:8080/"
        },
        "id": "3FLZPHs8e48F",
        "outputId": "4150ca62-95ca-4daf-de77-cc3e629a9a25"
      },
      "source": [
        "# Parse\r\n",
        "numbers = [int(x) for x in data[0].split(',')]\r\n",
        "numbers[ : 10]"
      ],
      "execution_count": 2,
      "outputs": [
        {
          "output_type": "execute_result",
          "data": {
            "text/plain": [
              "[3, 8, 1001, 8, 10, 8, 105, 1, 0, 0]"
            ]
          },
          "metadata": {
            "tags": []
          },
          "execution_count": 2
        }
      ]
    },
    {
      "cell_type": "markdown",
      "metadata": {
        "id": "QcUsOwZoe2tb"
      },
      "source": [
        "## Part 1\r\n",
        "\r\n"
      ]
    },
    {
      "cell_type": "code",
      "metadata": {
        "id": "B3lAkGud4F4D"
      },
      "source": [
        "# Run program\r\n",
        "def run_int_code_computer(int_codes, inputs = [], debug = False):\r\n",
        "\r\n",
        "  program_counter = 0\r\n",
        "  input_counter = 0\r\n",
        "  outputs = []\r\n",
        "  while(True):\r\n",
        "\r\n",
        "    int_code = int_codes[program_counter] # Assume it is an opcode (it should be if we advance the PC correctly and the program is valid)\r\n",
        "    ABCDE = '0' * (5 - len(str(int_code))) + str(int_code)\r\n",
        "    A = int(ABCDE[0])\r\n",
        "    B = int(ABCDE[1])\r\n",
        "    C = int(ABCDE[2])\r\n",
        "    DE = int(ABCDE[3:])\r\n",
        "\r\n",
        "    if debug: print('\\nPC:', program_counter, 'Code:', int_code)\r\n",
        "    if debug: print('ABCDE:', ABCDE, 'A:', A, 'B:', B, 'C:', C, 'DE:', DE)\r\n",
        "\r\n",
        "    if DE == 1: # Add (Opcode, op_1, op_2, loc)\r\n",
        "      op_1 = int_codes[int_codes[program_counter + 1]] if C == 0 else int_codes[program_counter + 1]\r\n",
        "      op_2 = int_codes[int_codes[program_counter + 2]] if B == 0 else int_codes[program_counter + 2]\r\n",
        "      res_position = int_codes[program_counter + 3]\r\n",
        "      if debug: print('Adds:', op_1, '+', op_2, '=', op_1 + op_2, 'and stores them at position', res_position)\r\n",
        "\r\n",
        "      int_codes[res_position] = op_1 + op_2\r\n",
        "      program_counter += 4\r\n",
        "\r\n",
        "    elif DE == 2: # Multiply (Opcode, op_1, op_2, loc)\r\n",
        "      op_1 = int_codes[int_codes[program_counter + 1]] if C == 0 else int_codes[program_counter + 1]\r\n",
        "      op_2 = int_codes[int_codes[program_counter + 2]] if B == 0 else int_codes[program_counter + 2]\r\n",
        "      res_position = int_codes[program_counter + 3]\r\n",
        "      if debug: print('Multiplies:', op_1, '*', op_2, '=', op_1 * op_2, 'and stores them at position', res_position)\r\n",
        "      \r\n",
        "      int_codes[res_position] = op_1 * op_2\r\n",
        "      program_counter += 4\r\n",
        "\r\n",
        "    elif DE == 3: # Store (opcode, loc)\r\n",
        "      #op = int(input('Please enter input:'))\r\n",
        "      op = inputs[input_counter]\r\n",
        "      input_counter += 1\r\n",
        "\r\n",
        "      res_position = int_codes[program_counter + 1]\r\n",
        "      if debug: print('Stores', op, 'to position', res_position)\r\n",
        "\r\n",
        "      int_codes[res_position] = op\r\n",
        "      program_counter += 2\r\n",
        "\r\n",
        "    elif DE == 4: # Outputs (opcode, loc)\r\n",
        "      op = int_codes[int_codes[program_counter + 1]] if C == 0 else int_codes[program_counter + 1]\r\n",
        "      if debug: print('Outputting:', op)\r\n",
        "      outputs.append(op)\r\n",
        "      program_counter += 2\r\n",
        "\r\n",
        "    elif DE == 5: # Jump if true (opcode, op_1, op_2)\r\n",
        "      op_1 = int_codes[int_codes[program_counter + 1]] if C == 0 else int_codes[program_counter + 1]\r\n",
        "      op_2 = int_codes[int_codes[program_counter + 2]] if B == 0 else int_codes[program_counter + 2]\r\n",
        "      \r\n",
        "      # If the first parameter is non-zero, it sets the instruction pointer to the value \r\n",
        "      # from the second parameter. Otherwise, it does nothing.\r\n",
        "      if op_1 != 0:\r\n",
        "        program_counter = op_2\r\n",
        "      else:\r\n",
        "        program_counter += 3\r\n",
        "\r\n",
        "    elif DE == 6: # Jump if false (opcode, op_1, op_2)\r\n",
        "      op_1 = int_codes[int_codes[program_counter + 1]] if C == 0 else int_codes[program_counter + 1]\r\n",
        "      op_2 = int_codes[int_codes[program_counter + 2]] if B == 0 else int_codes[program_counter + 2]\r\n",
        "      \r\n",
        "      # If the first parameter is zero, it sets the instruction pointer to the value \r\n",
        "      # from the second parameter. Otherwise, it does nothing.\r\n",
        "      if op_1 == 0:\r\n",
        "        program_counter = op_2\r\n",
        "      else:\r\n",
        "        program_counter += 3\r\n",
        "\r\n",
        "    elif DE == 7: # Less than (Opcode, op1, op2, loc)\r\n",
        "      op_1 = int_codes[int_codes[program_counter + 1]] if C == 0 else int_codes[program_counter + 1]\r\n",
        "      op_2 = int_codes[int_codes[program_counter + 2]] if B == 0 else int_codes[program_counter + 2]\r\n",
        "      res_position = int_codes[program_counter + 3]\r\n",
        "      if debug: print('Equals:', op_1, '==', op_2, '=', op_1 == op_2, 'Storing', 1 if op_1 == op_2 else 0, 'at position', res_position)\r\n",
        "\r\n",
        "      # If the first parameter is less than the second parameter, it stores 1 in \r\n",
        "      # the position given by the third parameter. Otherwise, it stores 0.\r\n",
        "      int_codes[res_position] = 1 if op_1 < op_2 else 0\r\n",
        "      program_counter += 4\r\n",
        "\r\n",
        "    elif DE == 8: # Equals (Opcode, op1, op2, loc)\r\n",
        "      op_1 = int_codes[int_codes[program_counter + 1]] if C == 0 else int_codes[program_counter + 1]\r\n",
        "      op_2 = int_codes[int_codes[program_counter + 2]] if B == 0 else int_codes[program_counter + 2]\r\n",
        "      res_position = int_codes[program_counter + 3]\r\n",
        "      if debug: print('Equals:', op_1, '==', op_2, '=', op_1 == op_2, 'Storing', 1 if op_1 == op_2 else 0, 'at position', res_position)\r\n",
        "\r\n",
        "      # If the first parameter is less than the second parameter, it stores 1 in \r\n",
        "      # the position given by the third parameter. Otherwise, it stores 0.\r\n",
        "      int_codes[res_position] = 1 if op_1 == op_2 else 0\r\n",
        "      program_counter += 4\r\n",
        "\r\n",
        "    elif DE == 99:\r\n",
        "      if debug: print('End of program')\r\n",
        "      break\r\n",
        "\r\n",
        "    else:\r\n",
        "      print('Oops. Somthing went wrong!')\r\n",
        "      break\r\n",
        "\r\n",
        "  return outputs\r\n"
      ],
      "execution_count": 3,
      "outputs": []
    },
    {
      "cell_type": "code",
      "metadata": {
        "colab": {
          "base_uri": "https://localhost:8080/"
        },
        "id": "PXGxRFz9-H7x",
        "outputId": "32b91813-32af-484e-920a-888f9befeaef"
      },
      "source": [
        "# Each amplifier gets two inputs\r\n",
        "\r\n",
        "from itertools import permutations\r\n",
        "\r\n",
        "perms = permutations([0, 1, 2, 3, 4], 5)\r\n",
        "\r\n",
        "output_signals = []\r\n",
        "for p in perms:\r\n",
        "  #print(p)\r\n",
        "\r\n",
        "  a = run_int_code_computer(numbers, [p[0], 0])\r\n",
        "  b = run_int_code_computer(numbers, [p[1]] + a)\r\n",
        "  c = run_int_code_computer(numbers, [p[2]] + b)\r\n",
        "  d = run_int_code_computer(numbers, [p[3]] + c)\r\n",
        "  e = run_int_code_computer(numbers, [p[4]] + d)\r\n",
        "  #print(a, b, c, d, e)\r\n",
        "  output_signals.append(e[0])\r\n",
        "\r\n",
        "\r\n",
        "max(output_signals)"
      ],
      "execution_count": 4,
      "outputs": [
        {
          "output_type": "execute_result",
          "data": {
            "text/plain": [
              "65464"
            ]
          },
          "metadata": {
            "tags": []
          },
          "execution_count": 4
        }
      ]
    },
    {
      "cell_type": "markdown",
      "metadata": {
        "id": "1u8EmppI_a6t"
      },
      "source": [
        "## Part 2\r\n",
        "\r\n",
        "This calls for significant redesign of my intcode computer. Now, we need to advance each program in an amplifier until it waits for another input, take is outputs and feed them to the next amplifier, and if keep going back and running programs when new inputs are available. It may actually be easier to utilize Python's multithreading and queue (which are thread-safe built-in. Isn't it wonderful?) functionality, so we don't get lost in the weeds.\r\n",
        "\r\n",
        "Yes, it worked! The following is messy but is pretty fast. Took long to get it working because I was passing the same memory to all the threads (I keep forgetting about Python's pass by reference). Needs to be cleaned up (maybe using a pool?)."
      ]
    },
    {
      "cell_type": "code",
      "metadata": {
        "id": "0EkDhxHiCEuj"
      },
      "source": [
        "# Run program\r\n",
        "import queue\r\n",
        "import threading\r\n",
        "import time\r\n",
        "\r\n",
        "sem = threading.Semaphore()\r\n",
        "\r\n",
        "def run_int_code_computer_with_queues(int_codes, input_queue, output_queue, name, results, debug = False):\r\n",
        "\r\n",
        "  program_counter = 0\r\n",
        "  output = 0\r\n",
        "  while(True):\r\n",
        "\r\n",
        "    int_code = int_codes[program_counter] # Assume it is an opcode (it should be if we advance the PC correctly and the program is valid)\r\n",
        "    ABCDE = '0' * (5 - len(str(int_code))) + str(int_code)\r\n",
        "    A = int(ABCDE[0])\r\n",
        "    B = int(ABCDE[1])\r\n",
        "    C = int(ABCDE[2])\r\n",
        "    DE = int(ABCDE[3:])\r\n",
        "\r\n",
        "    if debug: print('\\nPC:', program_counter, 'Code:', int_code)\r\n",
        "    if debug: print('ABCDE:', ABCDE, 'A:', A, 'B:', B, 'C:', C, 'DE:', DE)\r\n",
        "\r\n",
        "    if DE == 1: # Add (Opcode, op_1, op_2, loc)\r\n",
        "      op_1 = int_codes[int_codes[program_counter + 1]] if C == 0 else int_codes[program_counter + 1]\r\n",
        "      op_2 = int_codes[int_codes[program_counter + 2]] if B == 0 else int_codes[program_counter + 2]\r\n",
        "      res_position = int_codes[program_counter + 3]\r\n",
        "      if debug: print('Adds:', op_1, '+', op_2, '=', op_1 + op_2, 'and stores them at position', res_position)\r\n",
        "\r\n",
        "      int_codes[res_position] = op_1 + op_2\r\n",
        "      program_counter += 4\r\n",
        "\r\n",
        "    elif DE == 2: # Multiply (Opcode, op_1, op_2, loc)\r\n",
        "      op_1 = int_codes[int_codes[program_counter + 1]] if C == 0 else int_codes[program_counter + 1]\r\n",
        "      op_2 = int_codes[int_codes[program_counter + 2]] if B == 0 else int_codes[program_counter + 2]\r\n",
        "      res_position = int_codes[program_counter + 3]\r\n",
        "      if debug: print('Multiplies:', op_1, '*', op_2, '=', op_1 * op_2, 'and stores them at position', res_position)\r\n",
        "      \r\n",
        "      int_codes[res_position] = op_1 * op_2\r\n",
        "      program_counter += 4\r\n",
        "\r\n",
        "    elif DE == 3: # Store (opcode, loc)\r\n",
        "    \r\n",
        "      op = input_queue.get() # Blocks here\r\n",
        "\r\n",
        "      #sem.acquire()\r\n",
        "      #print(name, 'Received:', op)\r\n",
        "      #time.sleep(0.25)\r\n",
        "      #sem.release()\r\n",
        "\r\n",
        "      res_position = int_codes[program_counter + 1]\r\n",
        "      if debug: print('Stores', op, 'to position', res_position)\r\n",
        "\r\n",
        "      int_codes[res_position] = op\r\n",
        "      program_counter += 2\r\n",
        "      \r\n",
        "\r\n",
        "    elif DE == 4: # Outputs (opcode, loc)\r\n",
        "      op = int_codes[int_codes[program_counter + 1]] if C == 0 else int_codes[program_counter + 1]\r\n",
        "\r\n",
        "      #sem.acquire()\r\n",
        "      #print(name, 'Outputting:', op)\r\n",
        "      #time.sleep(0.25)\r\n",
        "      #sem.release()\r\n",
        "      \r\n",
        "      output_queue.put(op)\r\n",
        "      output = op\r\n",
        "      program_counter += 2\r\n",
        "      \r\n",
        "\r\n",
        "    elif DE == 5: # Jump if true (opcode, op_1, op_2)\r\n",
        "      op_1 = int_codes[int_codes[program_counter + 1]] if C == 0 else int_codes[program_counter + 1]\r\n",
        "      op_2 = int_codes[int_codes[program_counter + 2]] if B == 0 else int_codes[program_counter + 2]\r\n",
        "      \r\n",
        "      # If the first parameter is non-zero, it sets the instruction pointer to the value \r\n",
        "      # from the second parameter. Otherwise, it does nothing.\r\n",
        "      if op_1 != 0:\r\n",
        "        program_counter = op_2\r\n",
        "      else:\r\n",
        "        program_counter += 3\r\n",
        "\r\n",
        "    elif DE == 6: # Jump if false (opcode, op_1, op_2)\r\n",
        "      op_1 = int_codes[int_codes[program_counter + 1]] if C == 0 else int_codes[program_counter + 1]\r\n",
        "      op_2 = int_codes[int_codes[program_counter + 2]] if B == 0 else int_codes[program_counter + 2]\r\n",
        "      \r\n",
        "      # If the first parameter is zero, it sets the instruction pointer to the value \r\n",
        "      # from the second parameter. Otherwise, it does nothing.\r\n",
        "      if op_1 == 0:\r\n",
        "        program_counter = op_2\r\n",
        "      else:\r\n",
        "        program_counter += 3\r\n",
        "\r\n",
        "    elif DE == 7: # Less than (Opcode, op1, op2, loc)\r\n",
        "      op_1 = int_codes[int_codes[program_counter + 1]] if C == 0 else int_codes[program_counter + 1]\r\n",
        "      op_2 = int_codes[int_codes[program_counter + 2]] if B == 0 else int_codes[program_counter + 2]\r\n",
        "      res_position = int_codes[program_counter + 3]\r\n",
        "      if debug: print('Equals:', op_1, '==', op_2, '=', op_1 == op_2, 'Storing', 1 if op_1 == op_2 else 0, 'at position', res_position)\r\n",
        "\r\n",
        "      # If the first parameter is less than the second parameter, it stores 1 in \r\n",
        "      # the position given by the third parameter. Otherwise, it stores 0.\r\n",
        "      int_codes[res_position] = 1 if op_1 < op_2 else 0\r\n",
        "      program_counter += 4\r\n",
        "\r\n",
        "    elif DE == 8: # Equals (Opcode, op1, op2, loc)\r\n",
        "      op_1 = int_codes[int_codes[program_counter + 1]] if C == 0 else int_codes[program_counter + 1]\r\n",
        "      op_2 = int_codes[int_codes[program_counter + 2]] if B == 0 else int_codes[program_counter + 2]\r\n",
        "      res_position = int_codes[program_counter + 3]\r\n",
        "      if debug: print('Equals:', op_1, '==', op_2, '=', op_1 == op_2, 'Storing', 1 if op_1 == op_2 else 0, 'at position', res_position)\r\n",
        "\r\n",
        "      # If the first parameter is less than the second parameter, it stores 1 in \r\n",
        "      # the position given by the third parameter. Otherwise, it stores 0.\r\n",
        "      int_codes[res_position] = 1 if op_1 == op_2 else 0\r\n",
        "      program_counter += 4\r\n",
        "\r\n",
        "    elif DE == 99:\r\n",
        "      #sem.acquire()\r\n",
        "      #print('End of program')\r\n",
        "      #time.sleep(0.25)\r\n",
        "      #sem.release()\r\n",
        "      break\r\n",
        "\r\n",
        "    else:\r\n",
        "      sem.acquire()\r\n",
        "      print('Oops. Somthing went wrong!')\r\n",
        "      #time.sleep(0.25)\r\n",
        "      sem.release()\r\n",
        "      break\r\n",
        "\r\n",
        "  if name == 'e':\r\n",
        "    results.append(output)"
      ],
      "execution_count": 5,
      "outputs": []
    },
    {
      "cell_type": "code",
      "metadata": {
        "colab": {
          "base_uri": "https://localhost:8080/"
        },
        "id": "vUgAz5trGKpr",
        "outputId": "b93a63f6-292b-4755-fb1f-2e0048e4e7c4"
      },
      "source": [
        "#numbers = [3,26,1001,26,-4,26,3,27,1002,27,2,27,1,27,26,27,4,27,1001,28,-1,28,1005,28,6,99,0,0,5]\r\n",
        "#numbers = [3,52,1001,52,-5,52,3,53,1,52,56,54,1007,54,5,55,1005,55,26,1001,54, -5,54,1105,1,12,1,53,54,53,1008,54,0,55,1001,55,1,55,2,53,55,53,4,53,1001,56,-1,56,1005,56,6,99,0,0,0,0,10]\r\n",
        "\r\n",
        "# Each amplifier gets two inputs\r\n",
        "\r\n",
        "from itertools import permutations\r\n",
        "\r\n",
        "perms = permutations([5, 6, 7, 8, 9], 5)\r\n",
        "\r\n",
        "output_signals = []\r\n",
        "for p in perms:\r\n",
        "\r\n",
        "  a_out = queue.Queue()\r\n",
        "  b_out = queue.Queue()\r\n",
        "  c_out = queue.Queue()\r\n",
        "  d_out = queue.Queue()\r\n",
        "  e_out = queue.Queue()\r\n",
        "\r\n",
        "  # Phase setting sequence\r\n",
        "  e_out.put(p[0])\r\n",
        "  e_out.put(0)\r\n",
        "  a_out.put(p[1])\r\n",
        "  b_out.put(p[2])\r\n",
        "  c_out.put(p[3])\r\n",
        "  d_out.put(p[4])\r\n",
        "\r\n",
        "  a = threading.Thread(name='a', target = run_int_code_computer_with_queues, args=([x for x in numbers], e_out, a_out, 'a', output_signals))\r\n",
        "  b = threading.Thread(name='b', target = run_int_code_computer_with_queues, args=([x for x in numbers], a_out, b_out, 'b', output_signals))\r\n",
        "  c = threading.Thread(name='c', target = run_int_code_computer_with_queues, args=([x for x in numbers], b_out, c_out, 'c', output_signals))\r\n",
        "  d = threading.Thread(name='d', target = run_int_code_computer_with_queues, args=([x for x in numbers], c_out, d_out, 'd', output_signals))\r\n",
        "  e = threading.Thread(name='e', target = run_int_code_computer_with_queues, args=([x for x in numbers], d_out, e_out, 'e', output_signals))\r\n",
        "\r\n",
        "  a.start()\r\n",
        "  b.start()\r\n",
        "  c.start()\r\n",
        "  d.start()\r\n",
        "  e.start()\r\n",
        "\r\n",
        "  a.join()\r\n",
        "  b.join()\r\n",
        "  c.join()\r\n",
        "  d.join()\r\n",
        "  e.join()\r\n",
        "\r\n",
        "max(output_signals)"
      ],
      "execution_count": 6,
      "outputs": [
        {
          "output_type": "execute_result",
          "data": {
            "text/plain": [
              "1518124"
            ]
          },
          "metadata": {
            "tags": []
          },
          "execution_count": 6
        }
      ]
    },
    {
      "cell_type": "code",
      "metadata": {
        "id": "1Ou2rXIzZjNs"
      },
      "source": [
        ""
      ],
      "execution_count": 6,
      "outputs": []
    },
    {
      "cell_type": "code",
      "metadata": {
        "id": "L59VhxxhacnH"
      },
      "source": [
        ""
      ],
      "execution_count": 6,
      "outputs": []
    }
  ]
}